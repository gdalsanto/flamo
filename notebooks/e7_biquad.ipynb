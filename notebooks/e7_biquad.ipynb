{
 "cells": [
  {
   "cell_type": "markdown",
   "metadata": {},
   "source": [
    "## Biquad learning \n",
    "Learn the coefficents of a series of biquad filters such that to match a target magnitude response \n"
   ]
  },
  {
   "cell_type": "markdown",
   "metadata": {},
   "source": [
    "Start from importing all the neccessary packages and flamo modules "
   ]
  },
  {
   "cell_type": "code",
   "execution_count": null,
   "metadata": {},
   "outputs": [],
   "source": [
    "import os\n",
    "import torch\n",
    "import torch.nn as nn\n",
    "import matplotlib.pyplot as plt\n",
    "\n",
    "# from flamo \n",
    "from flamo.optimize.dataset import Dataset, load_dataset\n",
    "from flamo.optimize.trainer import Trainer\n",
    "from flamo.processor import dsp, system\n",
    "from flamo.functional import signal_gallery, highpass_filter, bandpass_filter\n",
    "\n",
    "torch.manual_seed(130798)\n"
   ]
  },
  {
   "cell_type": "markdown",
   "metadata": {},
   "source": [
    "### Construct the target filter responses\n",
    "The targets are two instances of 2-SOS highpass filters with random cutoff and gain values."
   ]
  },
  {
   "cell_type": "code",
   "execution_count": 2,
   "metadata": {},
   "outputs": [],
   "source": [
    "in_ch, out_ch = 1, 2    # input and output channels \n",
    "n_sections = 2  # number of second order sections  \n",
    "\n",
    "# training parameters\n",
    "nfft = 2**16    # number of FFT points\n",
    "alias_decay_db = 0  # decay in dB of the anti time-aliasing envelope\n",
    "device = 'cpu'  # 'cuda' or 'cpu'\n",
    "fs = 48000  # sample rate"
   ]
  },
  {
   "cell_type": "code",
   "execution_count": 3,
   "metadata": {},
   "outputs": [],
   "source": [
    "b, a = bandpass_filter(\n",
    "    fc1=torch.tensor(fs//2)*torch.rand(size=(n_sections, out_ch, in_ch)), \n",
    "    fc2=torch.tensor(fs//2)*torch.rand(size=(n_sections, out_ch, in_ch)), \n",
    "    gain=torch.tensor(-10) + (torch.tensor(10))*torch.rand(size=(n_sections, out_ch, in_ch)), \n",
    "    fs=fs)\n",
    "B = torch.fft.rfft(b, nfft, dim=0)\n",
    "A = torch.fft.rfft(a, nfft, dim=0)\n",
    "target_filter = torch.prod(B, dim=1) / torch.prod(A, dim=1)\n"
   ]
  },
  {
   "cell_type": "markdown",
   "metadata": {},
   "source": [
    "Create an instance of learnable Biquad filter "
   ]
  },
  {
   "cell_type": "code",
   "execution_count": 4,
   "metadata": {},
   "outputs": [],
   "source": [
    "biquad = dsp.Biquad(\n",
    "    size=(out_ch, in_ch), \n",
    "    n_sections=n_sections,\n",
    "    filter_type='bandpass',\n",
    "    nfft=nfft, \n",
    "    fs=fs,\n",
    "    requires_grad=True,\n",
    "    alias_decay_db=alias_decay_db,\n",
    "    device=device,\n",
    ")  "
   ]
  },
  {
   "cell_type": "markdown",
   "metadata": {},
   "source": [
    "flamo provides a `Shell` class where the differentiable system, in this case `biquad`, is connected to the input and output layers. \n",
    "- The input will be an impulse in time domain, thus the input layer needs to transform it to frequency domain \n",
    "- The target is the desired magnitude response, thus the input layers is the absolute value operation "
   ]
  },
  {
   "cell_type": "code",
   "execution_count": 5,
   "metadata": {},
   "outputs": [],
   "source": [
    "input_layer = dsp.FFT(nfft) \n",
    "output_layer = dsp.Transform(transform=lambda x : torch.abs(x))\n",
    "# wrap the biquad filter in the Shell\n",
    "model = system.Shell(\n",
    "    core=biquad, \n",
    "    input_layer=input_layer, \n",
    "    output_layer=output_layer)"
   ]
  },
  {
   "cell_type": "markdown",
   "metadata": {},
   "source": [
    "Log magnitude response at initialization"
   ]
  },
  {
   "cell_type": "code",
   "execution_count": 6,
   "metadata": {},
   "outputs": [],
   "source": [
    "with torch.no_grad():\n",
    "    mag_init = model.get_freq_response(identity=False, fs=fs).squeeze() \n"
   ]
  },
  {
   "cell_type": "markdown",
   "metadata": {},
   "source": [
    "#### Set up training\n",
    "Set training parameters values and construct dataset and trainer. "
   ]
  },
  {
   "cell_type": "code",
   "execution_count": 7,
   "metadata": {},
   "outputs": [],
   "source": [
    "# training set up parameters \n",
    "batch_size = 1\n",
    "num = 256 # number of samples\n",
    "max_epochs = 20 # maximum number of epochs \n",
    "lr = 1e-2 # learning rate\n",
    "step_size = 5 # step size for the learning rate scheduler\n",
    "patience_delta = 1e-5 # patience delta for the learning rate scheduler\n",
    "train_dir = 'output/ex_biquad'\n",
    "# create the output directory\n",
    "os.makedirs(train_dir, exist_ok=True)\n",
    "\n",
    "# create target \n",
    "input = signal_gallery(1, n_samples=nfft, n=in_ch, signal_type='impulse', fs=fs)\n",
    "target = torch.einsum('...ji,...i->...j', target_filter, input_layer(input))\n",
    "\n",
    "# create the dataset and data loaders \n",
    "dataset = Dataset(\n",
    "    input=input,\n",
    "    target=torch.abs(target),\n",
    "    expand=num,\n",
    "    device=device,\n",
    ")\n",
    "train_loader, valid_loader = load_dataset(dataset, batch_size=batch_size)\n",
    "\n",
    "# Initialize training process\n",
    "trainer = Trainer(\n",
    "    model, \n",
    "    max_epochs=max_epochs, \n",
    "    lr=lr, \n",
    "    train_dir=train_dir, \n",
    "    step_size=step_size,\n",
    "    patience_delta=patience_delta,\n",
    "    device=device)\n",
    "\n",
    "# Register the loss functions with their relative weights\n",
    "trainer.register_criterion(nn.MSELoss(), 1)"
   ]
  },
  {
   "cell_type": "markdown",
   "metadata": {},
   "source": [
    "#### Train the model! \n",
    "For each epoch the trainer launch both training and validation "
   ]
  },
  {
   "cell_type": "code",
   "execution_count": null,
   "metadata": {},
   "outputs": [],
   "source": [
    "trainer.train(train_loader, valid_loader)"
   ]
  },
  {
   "cell_type": "code",
   "execution_count": null,
   "metadata": {},
   "outputs": [],
   "source": [
    "# Get optimized impulse response\n",
    "with torch.no_grad():\n",
    "    mag_optim = model.get_freq_response(identity=False, fs=fs).squeeze() \n",
    "    mag_optim = 20 * torch.log10(mag_optim)\n",
    "\n",
    "freq_axis = torch.linspace(0, fs/2, nfft//2+1)\n",
    "\n",
    "mag_target = 20 * torch.log10(torch.abs(target.squeeze()))\n",
    "\n",
    "plt.figure(figsize=(12, 6))\n",
    "plt.subplot(2, 1, 1)\n",
    "plt.plot(freq_axis, mag_target.squeeze()[...,0].numpy(), label='Target')\n",
    "plt.plot(freq_axis, mag_init[...,0].numpy(), label='Initial')\n",
    "plt.plot(freq_axis, mag_optim[...,0].numpy(), '--', label='Optimized', alpha=0.7)\n",
    "plt.legend()\n",
    "plt.ylim([-200, 10])\n",
    "plt.title('Magnitude Response')\n",
    "plt.xlabel('Frequency (Hz)')\n",
    "plt.ylabel('Magnitude')\n",
    "\n",
    "plt.subplot(2, 1, 2)\n",
    "plt.plot(freq_axis, mag_target.squeeze()[...,1].numpy(), label='Target')\n",
    "plt.plot(freq_axis, mag_init[...,1].numpy(), label='Initial')\n",
    "plt.plot(freq_axis, mag_optim[...,1].numpy(), '--',label='Optimized')\n",
    "plt.legend()\n",
    "plt.ylim([-200, 10])\n",
    "plt.title('Magnitude Response')\n",
    "plt.xlabel('Frequency (Hz)')\n",
    "plt.ylabel('Magnitude')\n",
    "\n",
    "plt.tight_layout()\n",
    "plt.show()"
   ]
  }
 ],
 "metadata": {
  "kernelspec": {
   "display_name": ".flamo-env",
   "language": "python",
   "name": "python3"
  },
  "language_info": {
   "codemirror_mode": {
    "name": "ipython",
    "version": 3
   },
   "file_extension": ".py",
   "mimetype": "text/x-python",
   "name": "python",
   "nbconvert_exporter": "python",
   "pygments_lexer": "ipython3",
   "version": "3.12.7"
  }
 },
 "nbformat": 4,
 "nbformat_minor": 2
}
