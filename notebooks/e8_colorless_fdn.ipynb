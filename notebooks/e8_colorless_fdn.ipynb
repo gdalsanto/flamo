{
 "cells": [
  {
   "cell_type": "markdown",
   "metadata": {},
   "source": [
    "## Training of a lossless FDN to improve colorlessness\n",
    "Tune the parameters of an homogeneous and lossless FDN to reduce coloration\n"
   ]
  },
  {
   "cell_type": "markdown",
   "metadata": {},
   "source": [
    "Start from importing all the neccessary packages and flamo modules "
   ]
  },
  {
   "cell_type": "code",
   "execution_count": null,
   "metadata": {},
   "outputs": [],
   "source": [
    "import torch\n",
    "import os\n",
    "from collections import OrderedDict\n",
    "import matplotlib.pyplot as plt\n",
    "\n",
    "# from flamo \n",
    "from flamo.optimize.dataset import DatasetColorless, load_dataset\n",
    "from flamo.optimize.trainer import Trainer\n",
    "from flamo.processor import dsp, system\n",
    "from flamo.optimize.loss import amse_loss, sparsity_loss\n",
    "\n",
    "torch.manual_seed(130798)\n"
   ]
  },
  {
   "cell_type": "markdown",
   "metadata": {},
   "source": [
    "### Construct the Feedback Delay Network\n",
    "The FDN is created as an istance of the `flamo.system.Series`class which is used to cascade multiple DSP modules in series, similarly to `nn.Sequential`. This class serves as a container and ensures that all included modules share the same values for the `nfft` and `alias_decay_db` attributes. \n",
    "\n",
    "Note that the created FDN is lossless, so the `alias_decay_db` must be nonzero to reduce time-aliasing "
   ]
  },
  {
   "cell_type": "code",
   "execution_count": 24,
   "metadata": {},
   "outputs": [],
   "source": [
    "# FDN parameters\n",
    "delay_lengths = torch.tensor([887, 911, 941, 1699, 1951, 2053])\n",
    "N = len(delay_lengths)  # number of delays\n",
    "\n",
    "# training parameters\n",
    "nfft = 2**16    # number of FFT points\n",
    "alias_decay_db = 30  # decay in dB of the anti time-aliasing envelope\n",
    "device = 'cpu'  # 'cuda' or 'cpu'\n",
    "fs = 48000  # sample rate\n"
   ]
  },
  {
   "cell_type": "code",
   "execution_count": null,
   "metadata": {},
   "outputs": [],
   "source": [
    "# Input gains \n",
    "input_gain = dsp.Gain(\n",
    "    size=(N, 1), \n",
    "    nfft=nfft, \n",
    "    requires_grad=True, \n",
    "    alias_decay_db=alias_decay_db, \n",
    "    device=device\n",
    ")\n",
    "\n",
    "# Output gains\n",
    "output_gain = dsp.Gain(\n",
    "    size=(1, N), \n",
    "    nfft=nfft, \n",
    "    requires_grad=True, \n",
    "    alias_decay_db=alias_decay_db, \n",
    "    device=device\n",
    ")\n",
    "\n",
    "# FEEDBACK LOOP\n",
    "\n",
    "# feedforward path with delays\n",
    "delays = dsp.parallelDelay(\n",
    "    size=(N,),\n",
    "    max_len=delay_lengths.max(),\n",
    "    nfft=nfft,\n",
    "    isint=True,\n",
    "    requires_grad=False,\n",
    "    alias_decay_db=alias_decay_db,\n",
    "    device=device,\n",
    ")\n",
    "delays.assign_value(delays.sample2s(delay_lengths))\n",
    "\n",
    "# Feedback path with orthogonal matrix\n",
    "feedback = dsp.Matrix(\n",
    "    size=(N, N),\n",
    "    nfft=nfft,\n",
    "    matrix_type=\"orthogonal\",\n",
    "    requires_grad=True,\n",
    "    alias_decay_db=alias_decay_db,\n",
    "    device=device,\n",
    ")\n",
    "# Create recursion\n",
    "feedback_loop = system.Recursion(fF=delays, fB=feedback)\n",
    "\n",
    "# Contruct the FDN\n",
    "FDN = system.Series(OrderedDict({\n",
    "    'input_gain': input_gain,\n",
    "    'feedback_loop': feedback_loop,\n",
    "    'output_gain': output_gain\n",
    "}))"
   ]
  },
  {
   "cell_type": "markdown",
   "metadata": {},
   "source": [
    "flamo provides a `Shell` class where the differentiable system, in this case `FDN`, is connected to the input and output layers. \n",
    "- The input will be an impulse in time domain, thus the input layer needs to transform it to frequency domain \n",
    "- The target is the desired magnitude response, thus the input layers is the absolute value operation "
   ]
  },
  {
   "cell_type": "code",
   "execution_count": 26,
   "metadata": {},
   "outputs": [],
   "source": [
    "input_layer = dsp.FFT(nfft) \n",
    "output_layer = dsp.Transform(transform=lambda x : torch.abs(x))\n",
    "# wrap the FDN in the Shell\n",
    "model = system.Shell(\n",
    "    core=FDN, \n",
    "    input_layer=input_layer, \n",
    "    output_layer=output_layer)"
   ]
  },
  {
   "cell_type": "markdown",
   "metadata": {},
   "source": [
    "To speed up training is good practice to make sure that the energy of the system is comparable to that of the target. "
   ]
  },
  {
   "cell_type": "code",
   "execution_count": 27,
   "metadata": {},
   "outputs": [],
   "source": [
    "H = model.get_freq_response(identity=False)\n",
    "energy_H = torch.mean(torch.pow(torch.abs(H),2))\n",
    "target_energy = 1\n",
    "# apply energy normalization on input and output gains only\n",
    "with torch.no_grad():\n",
    "    core = model.get_core()\n",
    "    core.input_gain.assign_value(torch.div(core.input_gain.param, torch.pow( energy_H / target_energy, 1/4)))\n",
    "    core.output_gain.assign_value(torch.div(core.output_gain.param, torch.pow( energy_H / target_energy, 1/4)))\n",
    "    model.set_core(core)"
   ]
  },
  {
   "cell_type": "markdown",
   "metadata": {},
   "source": [
    "Log impulse response and the magnitude response at initialization"
   ]
  },
  {
   "cell_type": "code",
   "execution_count": 28,
   "metadata": {},
   "outputs": [],
   "source": [
    "with torch.no_grad():\n",
    "    ir_init =  model.get_time_response(identity=False, fs=fs).squeeze() \n",
    "    mag_init = model.get_freq_response(identity=False, fs=fs).squeeze() \n",
    "    mag_init = 20 * torch.log10(mag_init)"
   ]
  },
  {
   "cell_type": "markdown",
   "metadata": {},
   "source": [
    "#### Set up training\n",
    "Set training parameters values and construct dataset and trainer. "
   ]
  },
  {
   "cell_type": "code",
   "execution_count": 29,
   "metadata": {},
   "outputs": [],
   "source": [
    "# training set up parameters \n",
    "batch_size = 1\n",
    "num = 256 # number of samples\n",
    "max_epochs = 20 # maximum number of epochs \n",
    "lr = 1e-3 # learning rate\n",
    "step_size = 5 # step size for the learning rate scheduler\n",
    "train_dir = 'output/ex_fdn'\n",
    "# create the output directory\n",
    "os.makedirs(train_dir, exist_ok=True)\n",
    "\n",
    "# create the dataset and data loaders \n",
    "dataset = DatasetColorless(\n",
    "    input_shape=(1, nfft // 2 + 1, 1),      # impulse \n",
    "    target_shape=(1, nfft // 2 + 1, 1),     # flat spectrum as target \n",
    "    expand=num,\n",
    "    device=device,\n",
    ")\n",
    "train_loader, valid_loader = load_dataset(dataset, batch_size=batch_size)\n",
    "\n",
    "# Initialize training process\n",
    "trainer = Trainer(\n",
    "    model, \n",
    "    max_epochs=max_epochs, \n",
    "    lr=lr, \n",
    "    train_dir=train_dir, \n",
    "    device=device)\n",
    "\n",
    "# Register the loss functions with their relative weights\n",
    "trainer.register_criterion(amse_loss(), 1)\n",
    "trainer.register_criterion(sparsity_loss(), 1, requires_model=True)\n"
   ]
  },
  {
   "cell_type": "markdown",
   "metadata": {},
   "source": [
    "#### Train the model! \n",
    "For each epoch the trainer launch both training and validation "
   ]
  },
  {
   "cell_type": "code",
   "execution_count": null,
   "metadata": {},
   "outputs": [],
   "source": [
    "trainer.train(train_loader, valid_loader)"
   ]
  },
  {
   "cell_type": "code",
   "execution_count": null,
   "metadata": {},
   "outputs": [],
   "source": [
    "\n",
    "# Get optimized impulse response\n",
    "with torch.no_grad():\n",
    "    ir_optim =  model.get_time_response(identity=False, fs=fs).squeeze()\n",
    "    mag_optim = model.get_freq_response(identity=False, fs=fs).squeeze() \n",
    "    mag_optim = 20 * torch.log10(mag_optim)\n",
    "\n",
    "time_axis = torch.linspace(0, nfft/fs, nfft)\n",
    "freq_axis = torch.linspace(0, fs/2, nfft//2+1)\n",
    "\n",
    "# plot impulse response\n",
    "plt.figure(figsize=(12, 6))\n",
    "plt.subplot(2, 1, 1)\n",
    "plt.plot(time_axis, ir_init.numpy(), label='Initial')\n",
    "plt.plot(time_axis, ir_optim.numpy(), label='Optimized', alpha=0.7)\n",
    "plt.xlim(0, 0.5)\n",
    "plt.legend()\n",
    "plt.title('Impulse Response')\n",
    "plt.xlabel('Samples')\n",
    "plt.ylabel('Amplitude')\n",
    "\n",
    "# plot magnitude response\n",
    "plt.subplot(2, 1, 2)\n",
    "plt.plot(freq_axis, mag_init.numpy(), label='Initial')\n",
    "plt.plot(freq_axis, mag_optim.numpy(), label='Optimized', alpha=0.7)\n",
    "plt.xlim(100, 500)\n",
    "plt.legend()\n",
    "plt.title('Magnitude Response')\n",
    "plt.xlabel('Frequency (Hz)')\n",
    "plt.ylabel('Magnitude')\n",
    "\n",
    "plt.tight_layout()\n",
    "plt.show()"
   ]
  },
  {
   "cell_type": "code",
   "execution_count": null,
   "metadata": {},
   "outputs": [],
   "source": [
    "from IPython.display import Audio\n",
    "\n",
    "# Play the initial impulse response\n",
    "print(\"Initial Impulse Response:\")\n",
    "display(Audio(ir_init.numpy(), rate=fs))\n",
    "\n",
    "# Play the optimized impulse response\n",
    "print(\"Optimized Impulse Response:\")\n",
    "display(Audio(ir_optim.numpy(), rate=fs))"
   ]
  }
 ],
 "metadata": {
  "kernelspec": {
   "display_name": ".flamo-env",
   "language": "python",
   "name": "python3"
  },
  "language_info": {
   "codemirror_mode": {
    "name": "ipython",
    "version": 3
   },
   "file_extension": ".py",
   "mimetype": "text/x-python",
   "name": "python",
   "nbconvert_exporter": "python",
   "pygments_lexer": "ipython3",
   "version": "3.12.7"
  }
 },
 "nbformat": 4,
 "nbformat_minor": 2
}
